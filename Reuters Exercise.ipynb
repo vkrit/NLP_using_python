{
 "cells": [
  {
   "cell_type": "markdown",
   "id": "ac804ae4-ed0b-45d5-b01e-5ead0e82dd69",
   "metadata": {},
   "source": [
    "## Import the Gensim library and other necessary libraries:"
   ]
  },
  {
   "cell_type": "code",
   "execution_count": 1,
   "id": "8ee689d9-7e7a-48ab-9057-fa3c2cd7ef69",
   "metadata": {
    "tags": []
   },
   "outputs": [],
   "source": [
    "from gensim.models import Word2Vec\n",
    "import nltk\n"
   ]
  },
  {
   "cell_type": "markdown",
   "id": "671923b6-fc7a-4238-9b17-70c1cbe7c6bc",
   "metadata": {
    "tags": []
   },
   "source": [
    "## Download and load the \"reuters\" corpus from NLTK. Tokenize the sentences:"
   ]
  },
  {
   "cell_type": "code",
   "execution_count": 3,
   "id": "43a54d6b-c626-4b6b-8456-d1cd14e8bc5a",
   "metadata": {
    "tags": []
   },
   "outputs": [
    {
     "name": "stderr",
     "output_type": "stream",
     "text": [
      "[nltk_data] Downloading package reuters to /Users/a667207/nltk_data...\n",
      "[nltk_data]   Package reuters is already up-to-date!\n"
     ]
    }
   ],
   "source": [
    "nltk.download('reuters')\n",
    "from nltk.corpus import reuters\n",
    "\n",
    "sentences = reuters.sents()\n"
   ]
  },
  {
   "cell_type": "markdown",
   "id": "a94cdec2-baa5-4ad5-849d-7a32c8185e7c",
   "metadata": {},
   "source": [
    "## Train a Word2Vec model on the Reuters corpus. Set the size of the word vectors to be 100, and ignore words that appear less than 2 times in the corpus:"
   ]
  },
  {
   "cell_type": "code",
   "execution_count": 4,
   "id": "4dd745d2-d94e-4847-81ea-e5a5c20e87dc",
   "metadata": {
    "tags": []
   },
   "outputs": [],
   "source": [
    "model = Word2Vec(sentences, vector_size=100, min_count=2)\n"
   ]
  },
  {
   "cell_type": "markdown",
   "id": "4b14050c-e5da-415b-81f3-587b7418020d",
   "metadata": {},
   "source": [
    "## Explore the model. Find the vector for a word of your choice, and find the most similar words to a given word:"
   ]
  },
  {
   "cell_type": "code",
   "execution_count": 5,
   "id": "78a53a26-4968-4214-b072-edc2e1aaadaa",
   "metadata": {
    "tags": []
   },
   "outputs": [
    {
     "name": "stdout",
     "output_type": "stream",
     "text": [
      "[ 7.8466487e-01  2.1126490e+00 -1.9851091e+00  5.9729701e-01\n",
      "  1.9832546e-01  6.1497808e-02  8.5083127e-02  1.3898458e+00\n",
      " -6.1594152e-01  1.6600572e-01 -4.4668233e-01  3.5003439e-01\n",
      " -1.6819538e+00  1.0132372e+00 -2.1002502e+00 -6.6601300e-01\n",
      "  1.8892521e-01  2.2626963e+00  1.1130003e+00 -7.6599640e-01\n",
      " -1.1861906e+00 -1.1905396e+00 -1.3834482e+00 -4.5474371e-01\n",
      " -3.9047071e-01 -2.9443827e+00  3.3716056e-01 -2.9217290e-02\n",
      " -8.5430819e-01 -2.0580721e+00 -3.3616829e-01 -2.2372475e+00\n",
      " -3.0697450e-02  2.2016172e+00  6.1425126e-01 -8.4898812e-01\n",
      " -1.1323735e+00 -8.1948775e-01  1.7459678e-02  2.3710063e-01\n",
      "  5.6652254e-01  7.1583945e-01  4.8699099e-01 -1.8242103e+00\n",
      "  1.8503371e+00  1.4751512e+00  7.9796034e-01  1.2789849e+00\n",
      "  1.2672205e+00  1.2435584e+00  9.6379697e-01 -1.2069916e+00\n",
      " -8.3566946e-01  1.3053514e-01 -4.2744681e-01 -1.7295231e+00\n",
      "  4.0501505e-01  8.3836585e-01  2.1369739e+00 -2.7733757e-03\n",
      "  9.2868036e-01 -6.2675846e-01  1.4112930e+00 -1.8735292e+00\n",
      "  7.9526532e-01 -1.3142942e+00 -4.4683218e-01  3.8116029e-01\n",
      " -1.3476298e+00 -1.1371629e+00 -9.8950094e-01 -7.0105135e-01\n",
      "  8.8864160e-01  1.4992929e-01  8.4934431e-01  5.1027066e-01\n",
      " -3.9281598e-01 -1.6695237e-01 -3.4930971e-01 -9.5308483e-01\n",
      " -1.6900691e-01  9.3204480e-01 -1.6209317e+00  7.7525634e-01\n",
      "  1.5705718e+00 -1.0613989e+00 -4.1580626e-01 -1.3415643e+00\n",
      "  6.3941640e-01  2.1286638e+00 -4.9649253e-01  2.0171390e+00\n",
      "  2.0836686e-01  8.1407398e-01  2.9303282e-01  5.6958139e-01\n",
      " -1.6530899e+00  8.9722678e-02  7.0249850e-01 -1.3287423e+00]\n",
      "[('liquidity', 0.8115103244781494), ('sterling', 0.807750403881073), ('discount', 0.7333614230155945), ('interbank', 0.7277541756629944), ('currency', 0.7070320844650269), ('supply', 0.7013304233551025), ('funds', 0.6969378590583801), ('lending', 0.6951408386230469), ('bond', 0.689287543296814), ('fixed', 0.6880629658699036)]\n"
     ]
    }
   ],
   "source": [
    "# Vector for the word 'money'\n",
    "print(model.wv['money'])\n",
    "\n",
    "# Most similar words to 'money'\n",
    "print(model.wv.most_similar('money'))"
   ]
  },
  {
   "cell_type": "markdown",
   "id": "20230a90-43e2-4d66-a24f-820e71763d21",
   "metadata": {},
   "source": [
    "## Try a couple of other words and explore the results."
   ]
  },
  {
   "cell_type": "code",
   "execution_count": 10,
   "id": "52c15a49-7041-4b23-9b67-57ad950ff052",
   "metadata": {
    "tags": []
   },
   "outputs": [
    {
     "data": {
      "text/plain": [
       "[('shares', 0.7621355056762695),\n",
       " ('common', 0.6685059070587158),\n",
       " ('voting', 0.6649150252342224),\n",
       " ('warrants', 0.6512206792831421),\n",
       " ('preferred', 0.6484338641166687),\n",
       " ('convertible', 0.6476186513900757),\n",
       " ('rights', 0.6473050713539124),\n",
       " ('paid', 0.6427777409553528),\n",
       " ('purchase', 0.6329506039619446),\n",
       " ('offering', 0.6317702531814575)]"
      ]
     },
     "execution_count": 10,
     "metadata": {},
     "output_type": "execute_result"
    }
   ],
   "source": [
    "model.wv.most_similar('stock')"
   ]
  },
  {
   "cell_type": "markdown",
   "id": "9f68456a-65da-448e-abd3-5077ea898802",
   "metadata": {},
   "source": [
    "## Save Model"
   ]
  },
  {
   "cell_type": "code",
   "execution_count": 11,
   "id": "8fac8558-0c77-4fa1-ab13-260aa31aab54",
   "metadata": {
    "tags": []
   },
   "outputs": [],
   "source": [
    "model.save(\"word2vec.model\")"
   ]
  },
  {
   "cell_type": "code",
   "execution_count": 34,
   "id": "a6a00fcb-1546-4174-8a99-3e7f7c830be3",
   "metadata": {
    "tags": []
   },
   "outputs": [
    {
     "name": "stdout",
     "output_type": "stream",
     "text": [
      "operating: 0.6701\n"
     ]
    }
   ],
   "source": [
    "result = model.wv.most_similar(positive=['company', 'revenue'], negative=['cost'])\n",
    "print(\"{}: {:.4f}\".format(*result[0]))"
   ]
  }
 ],
 "metadata": {
  "kernelspec": {
   "display_name": "Python 3 (ipykernel)",
   "language": "python",
   "name": "python3"
  },
  "language_info": {
   "codemirror_mode": {
    "name": "ipython",
    "version": 3
   },
   "file_extension": ".py",
   "mimetype": "text/x-python",
   "name": "python",
   "nbconvert_exporter": "python",
   "pygments_lexer": "ipython3",
   "version": "3.10.0"
  }
 },
 "nbformat": 4,
 "nbformat_minor": 5
}
